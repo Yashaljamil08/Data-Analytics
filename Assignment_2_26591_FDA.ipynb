{
  "nbformat": 4,
  "nbformat_minor": 0,
  "metadata": {
    "colab": {
      "provenance": []
    },
    "kernelspec": {
      "name": "python3",
      "display_name": "Python 3"
    },
    "language_info": {
      "name": "python"
    }
  },
  "cells": [
    {
      "cell_type": "markdown",
      "source": [
        "**Data Preprocessing & Expolatory Data analysis**"
      ],
      "metadata": {
        "id": "GaHFa_9OwLQ2"
      }
    },
    {
      "cell_type": "code",
      "execution_count": 1,
      "metadata": {
        "id": "uj8ZKdoLZY76"
      },
      "outputs": [],
      "source": [
        "##Import Libraries\n",
        "import pandas as pd\n",
        "import numpy as np\n",
        "import matplotlib.pyplot as plt\n",
        "import seaborn as sns\n",
        "from sklearn.model_selection import train_test_split\n",
        "from sklearn.preprocessing import StandardScaler\n",
        "from sklearn.linear_model import LogisticRegression\n",
        "from sklearn.metrics import mean_squared_error, r2_score\n",
        "from sklearn.metrics import confusion_matrix, classification_report, accuracy_score, roc_auc_score\n",
        "from imblearn.over_sampling import SMOTE"
      ]
    },
    {
      "cell_type": "code",
      "source": [
        "import warnings\n",
        "warnings.filterwarnings('ignore')"
      ],
      "metadata": {
        "id": "kj5GvfffwCSU"
      },
      "execution_count": 2,
      "outputs": []
    },
    {
      "cell_type": "code",
      "source": [
        "# Load Dataset\n",
        "df=pd.read_csv('/content/insurance_claims.csv')"
      ],
      "metadata": {
        "id": "bsbPhxKIa1FX"
      },
      "execution_count": 3,
      "outputs": []
    },
    {
      "cell_type": "code",
      "source": [
        "# finding dimensions of dataset\n",
        "df.shape"
      ],
      "metadata": {
        "id": "ubhMHlJ5bavw"
      },
      "execution_count": null,
      "outputs": []
    },
    {
      "cell_type": "code",
      "source": [
        "# printing first few rows of dataset\n",
        "df.head()"
      ],
      "metadata": {
        "id": "8-wMEP_qbfyj",
        "collapsed": true
      },
      "execution_count": null,
      "outputs": []
    },
    {
      "cell_type": "code",
      "source": [
        "# statistical details of data\n",
        "df.describe()"
      ],
      "metadata": {
        "id": "q997a3PjbrKI"
      },
      "execution_count": null,
      "outputs": []
    },
    {
      "cell_type": "code",
      "source": [
        "# about data and its types\n",
        "df.info()"
      ],
      "metadata": {
        "id": "rG4NM7nIblFe"
      },
      "execution_count": null,
      "outputs": []
    },
    {
      "cell_type": "code",
      "source": [
        "#shows total count per variable\n",
        "df.count()"
      ],
      "metadata": {
        "id": "Yj3Rw9IaR4dn"
      },
      "execution_count": null,
      "outputs": []
    },
    {
      "cell_type": "code",
      "source": [
        "# Looking for Duplicate Rows\n",
        "duplicate_rows_df=df[df.duplicated()]\n",
        "print(\"No. of Duplicate rows\", duplicate_rows_df.shape)\n",
        "df.duplicated().sum()"
      ],
      "metadata": {
        "id": "3iJF0Y5XS8K9"
      },
      "execution_count": null,
      "outputs": []
    },
    {
      "cell_type": "code",
      "source": [
        "# Check for missing values\n",
        "print(df.isnull().sum())"
      ],
      "metadata": {
        "id": "NtWFDrVs458Y"
      },
      "execution_count": null,
      "outputs": []
    },
    {
      "cell_type": "code",
      "source": [
        "#boxplot to check outliers\n",
        "plt.figure(figsize=(12,8))\n",
        "sns.boxplot(data=df.drop(columns=['Fraud']))\n",
        "plt.xticks(rotation=90)\n",
        "plt.title(\"Box Plot of Variables\")\n",
        "plt.show()\n"
      ],
      "metadata": {
        "id": "2PHxDleOLIfu"
      },
      "execution_count": null,
      "outputs": []
    },
    {
      "cell_type": "code",
      "source": [
        "# Select only numeric columns for correlation\n",
        "numeric_data = df.select_dtypes(include=[np.number])\n",
        "\n",
        "# Calculate the correlation matrix\n",
        "corr = numeric_data.corr().round(2)\n",
        "\n",
        "# Plot the heatmap\n",
        "plt.figure(figsize=(15, 10))\n",
        "sns.heatmap(corr, annot=True, cmap='coolwarm')\n",
        "plt.title('Correlation Matrix')\n",
        "plt.show()\n"
      ],
      "metadata": {
        "id": "NPo_qUWsbx2T"
      },
      "execution_count": null,
      "outputs": []
    },
    {
      "cell_type": "code",
      "source": [
        "# Drop irrelevant columns\n",
        "dropped_columns = [\"PolicyholderNumber\", \"FirstPartyVehicleNumber\", \"ReferenceId\",\n",
        "             \"ThirdPartyVehicleNumber\", \"InsurerNotes\", \"FirstPolicySubscriptionDate\", \"LossDate\"]\n",
        "df_dc = df.drop(columns=dropped_columns)\n"
      ],
      "metadata": {
        "id": "mW-XecSbOs6u"
      },
      "execution_count": null,
      "outputs": []
    },
    {
      "cell_type": "code",
      "source": [
        "# Apply One-Hot Encoding to categorical variables\n",
        "df_final = pd.get_dummies(df_dc, drop_first=True)\n",
        "df_final.head()"
      ],
      "metadata": {
        "id": "4UcrAY5DUMKO"
      },
      "execution_count": null,
      "outputs": []
    },
    {
      "cell_type": "code",
      "source": [
        "# Check for missing values\n",
        "print(df_final.isnull().sum())"
      ],
      "metadata": {
        "id": "bw7_U-BldzI1"
      },
      "execution_count": null,
      "outputs": []
    },
    {
      "cell_type": "code",
      "source": [
        "fraud_count = df_final[\"Fraud\"].value_counts()\n",
        "\n",
        "# Print the distribution\n",
        "print(\"Distribution of Fraud Cases\")\n",
        "print(fraud_count)"
      ],
      "metadata": {
        "id": "_iLSyWAoFHlv"
      },
      "execution_count": null,
      "outputs": []
    },
    {
      "cell_type": "code",
      "source": [
        "# Visualize class distribution\n",
        "plt.figure(figsize=(4,4))\n",
        "sns.countplot(x=df_final[\"Fraud\"])\n",
        "plt.title(\"Distribution of Class: Fraudulent Claims vs Non-Fraudulent Claims\")\n",
        "plt.xlabel(\"Fraud cases (0 = Non-Fraud, 1 = Fraud)\")\n",
        "plt.ylabel(\"Total Count\")\n",
        "plt.show()"
      ],
      "metadata": {
        "id": "-K92VG3XGJVr"
      },
      "execution_count": null,
      "outputs": []
    },
    {
      "cell_type": "code",
      "source": [
        "# Define features and target variable\n",
        "X = df_final.drop('Fraud', axis=1)  # Features\n",
        "y = df_final['Fraud']  # Target\n",
        "\n",
        "# Split data into train and test sets\n",
        "X_train, X_test, y_train, y_test = train_test_split(X, y, test_size=0.2, random_state=42, stratify=y)"
      ],
      "metadata": {
        "id": "KTZFy7EU5gyv"
      },
      "execution_count": null,
      "outputs": []
    },
    {
      "cell_type": "markdown",
      "source": [
        "Here, X contains the features and y contains the target variable (y is whether or not a insurance claim is fraud).\n",
        "\n",
        "The data is split into 80% for training and 20% for testing"
      ],
      "metadata": {
        "id": "YyAaTX_G8MI3"
      }
    },
    {
      "cell_type": "markdown",
      "source": [
        "Since the Distribution shows there are 9900 non fraud and 100 fraud claims, this shows an imbalance in this data set. We will now use SMOTE to balance the dataset"
      ],
      "metadata": {
        "id": "XMgQZJFHxr6C"
      }
    },
    {
      "cell_type": "markdown",
      "source": [
        "**SMOTE**"
      ],
      "metadata": {
        "id": "NXfhIMvcx-6z"
      }
    },
    {
      "cell_type": "code",
      "source": [
        "#use AI to generate this code\n",
        "# Apply SMOTE to balance the dataset\n",
        "smote = SMOTE(random_state=42)\n",
        "X_train_smote, y_train_smote = smote.fit_resample(X_train, y_train)\n",
        "print(X_train_smote.shape)\n",
        "print(y_train_smote.shape)"
      ],
      "metadata": {
        "id": "TKS6yHK2VkzK"
      },
      "execution_count": null,
      "outputs": []
    },
    {
      "cell_type": "code",
      "source": [
        "#dividing non fraud claim and fraud claim in equal number to balance the set\n",
        "print(y_train_smote.value_counts())\n",
        "print(X_train_smote.value_counts())"
      ],
      "metadata": {
        "id": "BLJdcHEsVm7X"
      },
      "execution_count": null,
      "outputs": []
    },
    {
      "cell_type": "markdown",
      "source": [
        "Logistic regression is sensitive to the scale of features. Therefore, scaling is recommended"
      ],
      "metadata": {
        "id": "jtdf2yu08W9N"
      }
    },
    {
      "cell_type": "code",
      "source": [
        "scaler = StandardScaler()\n",
        "x_train_smote = scaler.fit_transform(X_train_smote)\n",
        "X_test = scaler.transform(X_test)"
      ],
      "metadata": {
        "id": "MjT5swQQ8Pap"
      },
      "execution_count": null,
      "outputs": []
    },
    {
      "cell_type": "markdown",
      "source": [
        "StandardScaler is used here to ensure that each feature has a mean of zero and a standard deviation of one.\n"
      ],
      "metadata": {
        "id": "KmfkcDfO8c18"
      }
    },
    {
      "cell_type": "markdown",
      "source": [
        "\n",
        "Now, we will create and train a logistic regression model."
      ],
      "metadata": {
        "id": "xX9AmHQA8eAk"
      }
    },
    {
      "cell_type": "code",
      "source": [
        "# Create logistic regression model\n",
        "log_reg = LogisticRegression()\n",
        "\n",
        "# Train the model on training data\n",
        "log_reg.fit(x_train_smote, y_train_smote)"
      ],
      "metadata": {
        "id": "VAfzme5F8fOv"
      },
      "execution_count": null,
      "outputs": []
    },
    {
      "cell_type": "code",
      "source": [
        "# Predict the test set results\n",
        "y_pred = log_reg.predict(X_test)\n",
        "y_prob = log_reg.predict_proba(X_test)[:, 1]\n",
        "\n",
        "print(y_pred)\n",
        "print(y_pred.shape)"
      ],
      "metadata": {
        "id": "MVFgLFbyfFk3"
      },
      "execution_count": null,
      "outputs": []
    },
    {
      "cell_type": "markdown",
      "source": [
        "The `predict()` method is used to make predictions on unseen data (i.e., the test set).\n"
      ],
      "metadata": {
        "id": "tKt2uWIPIc5I"
      }
    },
    {
      "cell_type": "markdown",
      "source": [
        "To assess how well our logistic regression model performed, we will use metrics such as **accuracy score**, **confusion matrix**, and **classification report**.\n"
      ],
      "metadata": {
        "id": "qI2J3douIl7m"
      }
    },
    {
      "cell_type": "code",
      "source": [
        "# Evaluate the model\n",
        "\n",
        "auc_roc = roc_auc_score(y_test, y_prob) #through AI\n",
        "print(f\"AUC-ROC: {auc_roc:.2f}\")\n",
        "print(\"Accuracy:\", accuracy_score(y_test, y_pred))\n",
        "print(\"\\nClassification Report:\\n\", classification_report(y_test, y_pred))\n",
        "\n",
        "# Plot confusion matrix\n",
        "conf_matrix = confusion_matrix(y_test, y_pred)\n",
        "sns.heatmap(conf_matrix, annot=True, fmt='d', cmap='Blues', xticklabels=['Non-Fraud', 'Fraud'], yticklabels=['Non-Fraud', 'Fraud'])\n",
        "plt.xlabel('Predicted')\n",
        "plt.ylabel('Actual')\n",
        "plt.title('Confusion Matrix')\n",
        "plt.show()"
      ],
      "metadata": {
        "id": "dlzPtZEM8lRl",
        "colab": {
          "base_uri": "https://localhost:8080/",
          "height": 698
        },
        "outputId": "3772761f-c385-452c-c16a-9b8e4db156b1"
      },
      "execution_count": null,
      "outputs": [
        {
          "output_type": "stream",
          "name": "stdout",
          "text": [
            "AUC-ROC: 0.62\n",
            "Accuracy: 0.986\n",
            "\n",
            "Classification Report:\n",
            "               precision    recall  f1-score   support\n",
            "\n",
            "         0.0       0.99      1.00      0.99      1980\n",
            "         1.0       0.00      0.00      0.00        20\n",
            "\n",
            "    accuracy                           0.99      2000\n",
            "   macro avg       0.49      0.50      0.50      2000\n",
            "weighted avg       0.98      0.99      0.98      2000\n",
            "\n"
          ]
        },
        {
          "output_type": "display_data",
          "data": {
            "text/plain": [
              "<Figure size 640x480 with 2 Axes>"
            ],
            "image/png": "[encoded data removed]"
          },
          "metadata": {}
        }
      ]
    },
    {
      "cell_type": "code",
      "source": [],
      "metadata": {
        "id": "7Gw_igJqFoyn"
      },
      "execution_count": null,
      "outputs": []
    },
    {
      "cell_type": "markdown",
      "source": [
        "Analyze the Confusion Matrix for False Positives/Negatives.\n",
        "\n",
        "We have data set of 10000 insurance claims. We divide these 10000 claims for 80% training (8000 claims) and 20% testing (2000 claims). After training our model, when we run a logistic regression on 2000 claims (test sets), out of these 1980 were in actually non fruad and 20 were fruad. Out of these 1980 non fraud claims, the modelpredicts 1972 correctly as non fraud and claims 8 as fraud. Out of 20 fraud claims the model predicted 0 and predicts all as non fraud.\n",
        "\n",
        "True Negative: 1972 non Fraudulent claims (legitimate claims)  correctly identified as legitimate.\n",
        "\n",
        "False Negative: 20 fraudulent claims incorrectly classified as legitimate.\n",
        "\n",
        "True Positive: Model fails to correctly identify any fraud cases.\n",
        "\n",
        "False Poisitive: 8 legitimate claims incorrectly flagged as fraud.\n",
        "\n",
        "AUC-ROC Score: 0.62 means the model correctly predicts fraud vs non fraud 62 % of the times\n",
        "\n",
        "\n",
        "\n",
        "\n"
      ],
      "metadata": {
        "id": "WLcwyk2E2bfx"
      }
    },
    {
      "cell_type": "markdown",
      "source": [
        "# **Key Insights:**\n",
        "\n",
        "***Performance Metrics:***\n",
        "\n",
        "The model attains 0.986 accuracy due to non-fraud transactions outnumbering the data but this figure serves no practical value for preventing fraud detection failures as it predicts 0 right fraud.\n",
        "\n",
        "The recall rate for Fraud Cases amounts to 0% (0/20) thus demonstrating that the model entirely fails to detect fraud which shows that it is unsafe for financial loss mitigation.\n",
        "\n",
        "F1 Score: Very poor for fraud detection, but great for non fradulent claims detection.\n",
        "\n",
        "***Strength:***\n",
        "\n",
        "High Accuracy for Non-Fraud Transactions: Non-fraud transactions receive classification accuracy from the model with 97.6% precision.\n",
        "\n",
        "Low False Positives: The system generates only eight errors among non-fraud transactions which means fraud alerts will not occur frequently.\n",
        "\n",
        "***Weaknesses:***\n",
        "\n",
        "The model fails to identify any cases of fraud which is a critical issue (True Positive = 0). The failure to detect fraud cases represents a significant problem for financial security.\n",
        "\n",
        "Severe Class Imbalance: The available dataset has substantially more examples of non-fraud transactions compared to cases of fraud. The model remains biased toward the majority class even after the application of Smote because of its inclination to ignore fraud cases.\n",
        "\n",
        "# **Recommendations:**\n",
        "\n",
        "1) Resampling technique:\n",
        "\n",
        "*   Oversampling Fraud Cases\n",
        "*   Undersampling Non-Fraud Cases\n",
        "*   Collect More Fraud Data to train the model better\n",
        "\n",
        "2) Apply Regularization & Hyperparameter Tuning:\n",
        "\n",
        "The model fits too closely with non-fraud cases because it receives more imbalanced data.\n",
        "\n",
        "Solutions:\n",
        "\n",
        "The implementation of L1/L2 regularization (Ridge, Lasso) functions to reduce overfitting occurs.\n",
        "\n",
        "Tune system threshold parameters in order to promote fraud identification.\n",
        "\n",
        "3) Elements of the prediction model serve as leakage channels and simultaneously fail to bring sufficient effectiveness to the model results.\n",
        "\n",
        "Solutions:\n",
        "\n",
        "Remove potential data leakage features (e.g., ReferenceId, PolicyholderNumber).\n",
        "\n",
        "The system requires new features to detect fraud patterns such as monitoring high claim amounts in short duration or unusual login locations.\n",
        "\n",
        "Transform date/time characteristics into essential classification groups which include weekend and weekday alongside rush hour and non-rush hour periods.\n",
        "\n"
      ],
      "metadata": {
        "id": "GQP2U82iIBQu"
      }
    }
  ]
}