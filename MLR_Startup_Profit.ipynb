{
  "nbformat": 4,
  "nbformat_minor": 0,
  "metadata": {
    "colab": {
      "provenance": []
    },
    "kernelspec": {
      "name": "python3",
      "display_name": "Python 3"
    },
    "language_info": {
      "name": "python"
    }
  },
  "cells": [
    {
      "cell_type": "markdown",
      "source": [
        "# TASK: Build a ML model to predict startup's profit based on various expenses.\n",
        "Suppose you are part of the finance team for a growing startup that is looking to expand operations. The management wants to predict future profits based on spending in R&D, Administration, and Marketing. Your task is to create a financial model that helps the startup optimize its spending while maximizing profit. This will help the company make informed investment decisions in different departments.\n",
        "\n",
        "\n",
        "\n"
      ],
      "metadata": {
        "id": "59zcrH1KPv8N"
      }
    },
    {
      "cell_type": "markdown",
      "source": [
        "Import Libraries and Load Dataset\n"
      ],
      "metadata": {
        "id": "Afba0wfgWB1b"
      }
    },
    {
      "cell_type": "code",
      "source": [
        "# Importing necessary libraries\n",
        "import pandas as pd\n",
        "import numpy as np\n",
        "import matplotlib.pyplot as plt\n",
        "import seaborn as sns\n",
        "from sklearn.model_selection import train_test_split\n",
        "from sklearn.linear_model import LinearRegression\n",
        "from sklearn.metrics import mean_squared_error, mean_absolute_error, r2_score\n",
        "\n"
      ],
      "metadata": {
        "id": "9tFRF7ONTFMj"
      },
      "execution_count": null,
      "outputs": []
    },
    {
      "cell_type": "code",
      "source": [
        "# Loading the dataset without the 'State' column\n",
        "file_path = '/content/50_Startups_ES.csv'  # Adjust this path if needed\n",
        "df = pd.read_csv(file_path)\n",
        "\n"
      ],
      "metadata": {
        "id": "v8h5y8eiWHMT"
      },
      "execution_count": null,
      "outputs": []
    },
    {
      "cell_type": "code",
      "source": [
        "# Displaying the first few rows of the dataset\n",
        "print(\"First few rows of the dataset:\")\n",
        "print(df.head())\n"
      ],
      "metadata": {
        "id": "tYAsbjOAWIPT"
      },
      "execution_count": null,
      "outputs": []
    },
    {
      "cell_type": "markdown",
      "source": [
        "Exploratory Data Analysis (EDA)\n"
      ],
      "metadata": {
        "id": "CR0uNxYjWJ9F"
      }
    },
    {
      "cell_type": "code",
      "source": [
        "# Checking for null values\n",
        "print(\"\\nNull values in each column:\")\n",
        "print(df.isnull().sum())\n",
        "\n",
        "# Summary statistics of the dataset\n",
        "print(\"\\nSummary statistics:\")\n",
        "print(df.describe())\n",
        "\n",
        "\n"
      ],
      "metadata": {
        "id": "mxAZvz7dTFI_"
      },
      "execution_count": null,
      "outputs": []
    },
    {
      "cell_type": "code",
      "source": [
        "# Pairplot to visualize relationships\n",
        "sns.pairplot(df)\n",
        "plt.show()\n",
        "\n",
        "\n"
      ],
      "metadata": {
        "id": "CPHbOtjwWQs5"
      },
      "execution_count": null,
      "outputs": []
    },
    {
      "cell_type": "markdown",
      "source": [
        "Correlation Heatmap helps identify which features have the strongest relationships with the target variable (\"Profit\").\n"
      ],
      "metadata": {
        "id": "RK3l4xkjXn66"
      }
    },
    {
      "cell_type": "code",
      "source": [
        "\n",
        "# Correlation heatmap\n",
        "plt.figure(figsize=(10, 6))\n",
        "sns.heatmap(df.corr(), annot=True, cmap='coolwarm')\n",
        "plt.title('Correlation Matrix Heatmap')\n",
        "plt.show()"
      ],
      "metadata": {
        "id": "BjGPrjtzXmCs"
      },
      "execution_count": null,
      "outputs": []
    },
    {
      "cell_type": "markdown",
      "source": [
        "Data Preprocessing\n"
      ],
      "metadata": {
        "id": "dqWgvai0WVlN"
      }
    },
    {
      "cell_type": "markdown",
      "source": [
        "We split the data into features (X) and target (y), and then split these into training and testing sets. We do so to evaluate the model on unseen data.\n",
        "\n",
        "We create and train a multiple linear regression model using the training set and display the coefficients to understand the impact of each feature on \"Profit.\"\n",
        "\n",
        "We can change Train/Test ratio too. Try 70:30 next\n"
      ],
      "metadata": {
        "id": "27iVnkb0WkYG"
      }
    },
    {
      "cell_type": "code",
      "source": [
        "# Splitting the data into features (X) and target (y)\n",
        "X = df.drop('Profit', axis=1)  # All columns except 'Profit' are features\n",
        "y = df['Profit']               # 'Profit' is the target variable\n",
        "\n",
        "# Splitting the data into training and testing sets (80% train, 20% test)\n",
        "X_train, X_test, y_train, y_test = train_test_split(X, y, test_size=0.2, random_state=42)\n",
        "\n",
        "# Creating and training the multiple linear regression model\n",
        "model = LinearRegression()\n",
        "model.fit(X_train, y_train)\n",
        "\n",
        "# Displaying the coefficients\n",
        "print(\"Model Coefficients:\")\n",
        "coefficients = pd.DataFrame(model.coef_, X.columns, columns=['Coefficient'])\n",
        "print(coefficients)\n",
        "\n",
        "intercept = model.intercept_\n",
        "print(f\"Intercept (β0): {intercept}\")\n",
        "\n"
      ],
      "metadata": {
        "id": "1_kOYcV6TFGR"
      },
      "execution_count": null,
      "outputs": []
    },
    {
      "cell_type": "markdown",
      "source": [
        "coefficients represent the positie or negative relation and the intensity.\n",
        "\n",
        "The coefficients indicate the expected change in \"Profit\" for a one-unit change in each feature, assuming other features remain constant.\n",
        "\n",
        "\n",
        "Also, the intercept is implicitly included in the linear regression model by default.\n"
      ],
      "metadata": {
        "id": "5KcABrv4YOkW"
      }
    },
    {
      "cell_type": "code",
      "source": [
        "# Making predictions on the test set\n",
        "y_pred = model.predict(X_test)\n",
        "\n",
        "# Evaluating the model\n",
        "mae = mean_absolute_error(y_test, y_pred)\n",
        "r2 = r2_score(y_test, y_pred)\n",
        "\n",
        "print(f\"Mean Absolute Error: {mae}\")\n",
        "print(f\"R-squared: {r2}\")\n"
      ],
      "metadata": {
        "id": "-KlxE_MBTFDI"
      },
      "execution_count": null,
      "outputs": []
    },
    {
      "cell_type": "markdown",
      "source": [
        "R-squared of 0.77 means the model explains about 77% of the variance in \"Profit\"\n",
        "\n",
        "Higher values indicate a better fit.\n",
        "\n"
      ],
      "metadata": {
        "id": "zB3Os_nuYt8X"
      }
    },
    {
      "cell_type": "code",
      "source": [
        "# Plotting actual vs. predicted values with enhanced labeling and legend\n",
        "plt.figure(figsize=(8, 6))\n",
        "plt.scatter(y_test, y_pred, color='blue', label='Actual Profit')  # Blue dots for actual profit\n",
        "plt.plot([y_test.min(), y_test.max()], [y_test.min(), y_test.max()], 'r--', linewidth=2, label='Predicted Profit (Ideal Line)')  # Red dashed line for predicted profit\n",
        "plt.xlabel('Actual Profit')\n",
        "plt.ylabel('Predicted Profit')\n",
        "plt.title('Actual vs. Predicted Profit')\n",
        "plt.legend()  # Adds a legend to clarify colors\n",
        "plt.show()\n"
      ],
      "metadata": {
        "id": "wiwsIPBsTFBZ"
      },
      "execution_count": null,
      "outputs": []
    },
    {
      "cell_type": "markdown",
      "source": [
        "Points should ideally lie close to the red line, indicating accurate predictions.\n"
      ],
      "metadata": {
        "id": "oTWQTd8gY2Wh"
      }
    },
    {
      "cell_type": "markdown",
      "source": [
        "# Slider\n",
        "Interact with the sliders to input different values for R&D Spend, Administration, and Marketing Spend. The model will predict the profit based on these inputs.\n",
        "\n"
      ],
      "metadata": {
        "id": "WYSnl-pCZS0L"
      }
    },
    {
      "cell_type": "code",
      "source": [
        "# Install ipywidgets (if not already installed)\n",
        "!pip install ipywidgets\n",
        "\n",
        "# Import ipywidgets for interactive components\n",
        "from ipywidgets import interact, FloatSlider, HBox, VBox, widgets\n",
        "\n",
        "# Define a function to make predictions interactively\n",
        "def predict_profit_interactive(rd_spend, administration, marketing_spend):\n",
        "    # Create a DataFrame with input values\n",
        "    input_data = pd.DataFrame({\n",
        "        'R&D Spend': [rd_spend],\n",
        "        'Administration': [administration],\n",
        "        'Marketing Spend': [marketing_spend]\n",
        "    })\n",
        "\n",
        "    # Predict the profit using the trained model\n",
        "    predicted_profit = model.predict(input_data)[0]\n",
        "\n",
        "    # Display the predicted profit\n",
        "    print(f\"Predicted Profit: ${predicted_profit:.2f}\")\n",
        "\n",
        "# Create interactive sliders for user input\n",
        "rd_spend_slider = FloatSlider(value=100000, min=0, max=500000, step=1000, description='R&D Spend:')\n",
        "administration_slider = FloatSlider(value=50000, min=0, max=300000, step=1000, description='Administration:')\n",
        "marketing_spend_slider = FloatSlider(value=100000, min=0, max=500000, step=1000, description='Marketing Spend:')\n",
        "\n",
        "# Display the interactive widget\n",
        "interact(predict_profit_interactive,\n",
        "         rd_spend=rd_spend_slider,\n",
        "         administration=administration_slider,\n",
        "         marketing_spend=marketing_spend_slider);\n"
      ],
      "metadata": {
        "id": "riy5tEOjZUkX"
      },
      "execution_count": null,
      "outputs": []
    },
    {
      "cell_type": "markdown",
      "source": [
        "# Questions\n",
        "\n",
        "\n",
        "1. How can this model help the company decide how much to invest in R&D, Administration, and Marketing?\n",
        "\n",
        "2. What does the mean and standard deviation of R&D Spend suggest about the dataset?\n",
        "\n",
        "3. The Marketing Spend has a large range (difference between min and max values). How might this impact our model?\n",
        "\n",
        "4. If the dataset had categorical features like Startup Industry, how would we handle them in this model?\n",
        "\n",
        "5. What does the correlation matrix tell us about which spending category influences profit the most?\n",
        "\n",
        "6. Why do we use train_test_split() before fitting the model? What is the default split ratio?\n",
        "\n",
        "7. What happens if we remove Administration spending from the model? How would it affect predictions?\n",
        "\n",
        "8. If the test set accuracy is much lower than the training set accuracy, what might be the reason?\n",
        "\n",
        "9. If a new startup has zero spending in Marketing but high R&D and Administration spending, would this model still make accurate predictions?\n",
        "\n",
        "10. The company wants to maximize profit. Should they focus more on increasing R&D spending or Marketing spending based on the model’s results?\n",
        "\n",
        "11. Could this model be used to predict the profit of a startup in a different country? Why or why not?\n",
        "\n",
        "12. If you were advising this startup, what additional variables would you suggest adding to improve predictions?\n"
      ],
      "metadata": {
        "id": "dDMcuuFNAvn9"
      }
    }
  ]
}